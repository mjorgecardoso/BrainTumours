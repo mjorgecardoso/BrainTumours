{
 "cells": [
  {
   "cell_type": "code",
   "execution_count": null,
   "metadata": {
    "collapsed": true
   },
   "outputs": [],
   "source": [
    "import os \n",
    "import nibabel as nib \n",
    "from imageio import imsave\n",
    "import numpy as np \n",
    "\n",
    "nii_dir = '.'\n",
    "out_dir = '../../brats_2d'\n",
    "\n",
    "for f in [fn for fn in os.listdir(nii_dir) if 'seg' in fn]: \n",
    "    seg = (nib.load(os.path.join(nii_dir, f)).get_data() > 0).astype(np.uint8)\n",
    "    z_ind = np.argmax(np.sum(seg, (0, 1)))\n",
    "    print(z_ind)\n",
    "    img = seg[:, :, z_ind]\n",
    "    imsave(os.path.join(out_dir, f.replace('nii.gz', 'tif')), img)\n",
    "    \n",
    "    for mod in ('flair', 't1ce', 't1', 't2'):\n",
    "        img = nib.load(os.path.join(nii_dir, f.replace('seg', mod))).get_data().astype(np.uint64)\n",
    "        img = img[:, :, z_ind]\n",
    "        imsave(os.path.join(out_dir, f.replace('seg', mod).replace('nii.gz', 'tif')), img)\n"
   ]
  }
 ],
 "metadata": {
  "kernelspec": {
   "display_name": "Python 3",
   "language": "python",
   "name": "python3"
  },
  "language_info": {
   "codemirror_mode": {
    "name": "ipython",
    "version": 3
   },
   "file_extension": ".py",
   "mimetype": "text/x-python",
   "name": "python",
   "nbconvert_exporter": "python",
   "pygments_lexer": "ipython3",
   "version": "3.6.3"
  }
 },
 "nbformat": 4,
 "nbformat_minor": 2
}
